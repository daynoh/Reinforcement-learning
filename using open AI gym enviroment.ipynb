{
 "cells": [
  {
   "cell_type": "code",
   "execution_count": 1,
   "metadata": {},
   "outputs": [],
   "source": [
    "import gym\n",
    "import numpy as np\n",
    "import matplotlib.pyplot as plt"
   ]
  },
  {
   "cell_type": "code",
   "execution_count": 17,
   "metadata": {},
   "outputs": [
    {
     "data": {
      "text/plain": [
       "array([-0.45123903,  0.        ])"
      ]
     },
     "execution_count": 17,
     "metadata": {},
     "output_type": "execute_result"
    }
   ],
   "source": [
    "env = gym.make('MountainCar-v0')\n",
    "env.reset()\n",
    "\n",
    "\n",
    "#print(env.observation_space.high)\n",
    "#print(env.observation_space.low)\n",
    "#print(env.action_space.n)"
   ]
  },
  {
   "cell_type": "code",
   "execution_count": 18,
   "metadata": {},
   "outputs": [],
   "source": [
    "learning_rate = 0.01\n",
    "\n",
    "#measure of how much we value future reward over current reward \n",
    "discount = 0.95\n",
    "episodes = 3000\n",
    "# measure of exploration you want to do(0-1) more likely to explore the enviroment quickly\n",
    "epsilon = 0.5\n",
    "start_epsilon_decay = 1\n",
    "end_epsilon_decay = episodes // 2\n",
    "epsilon_decay_value = epsilon/(end_epsilon_decay - start_epsilon_decay)"
   ]
  },
  {
   "cell_type": "code",
   "execution_count": 19,
   "metadata": {},
   "outputs": [],
   "source": [
    "# observation space size [20,20] which is all the possible combinations(enviroment observation) of position and velocity\n",
    "discrete_os_size = [20]* len(env.observation_space.high)\n",
    "discrete_os_win_size = (env.observation_space.high - env.observation_space.low)/discrete_os_size\n",
    "\n",
    "ep_rewards = []\n",
    "aggr_ep_rewards = {'ep':[], 'avg':[], 'min':[],'max':[]}\n",
    "#print(discrete_os_size)\n",
    "#print(discrete_os_win_size)"
   ]
  },
  {
   "cell_type": "code",
   "execution_count": 20,
   "metadata": {},
   "outputs": [],
   "source": [
    "q_table = np.random.uniform(low = -2, high = 0,size = (discrete_os_size+[env.action_space.n]))\n",
    "#print(q_table.shape)\n",
    "#print(q_table)"
   ]
  },
  {
   "cell_type": "code",
   "execution_count": 21,
   "metadata": {},
   "outputs": [],
   "source": [
    "def get_discrete_state(state):\n",
    "    discrete_state = (state - env.observation_space.low) / discrete_os_win_size\n",
    "    return tuple(discrete_state.astype(np.int))\n",
    "discrete_state = get_discrete_state(env.reset())\n",
    "#print(discrete_state)\n",
    "#print(np.argmax(q_table[discrete_state]))\n"
   ]
  },
  {
   "cell_type": "code",
   "execution_count": 22,
   "metadata": {},
   "outputs": [],
   "source": [
    "show_episode = 500"
   ]
  },
  {
   "cell_type": "code",
   "execution_count": 23,
   "metadata": {},
   "outputs": [
    {
     "name": "stdout",
     "output_type": "stream",
     "text": [
      "0\n",
      "Episode: 0 avg: -200.0 min: -200.0 max: -200.0\n",
      "500\n",
      "Episode: 500 avg: -200.0 min: -200.0 max: -200.0\n",
      "We made it on episode 872\n",
      "We made it on episode 924\n",
      "1000\n",
      "Episode: 1000 avg: -199.758 min: -200.0 max: -90.0\n",
      "We made it on episode 1211\n",
      "We made it on episode 1240\n",
      "We made it on episode 1249\n",
      "We made it on episode 1278\n",
      "We made it on episode 1305\n",
      "We made it on episode 1317\n",
      "1500\n",
      "Episode: 1500 avg: -199.238 min: -200.0 max: -109.0\n",
      "2000\n",
      "Episode: 2000 avg: -200.0 min: -200.0 max: -200.0\n",
      "2500\n",
      "Episode: 2500 avg: -200.0 min: -200.0 max: -200.0\n"
     ]
    }
   ],
   "source": [
    "\n",
    "for episode in range(episodes):\n",
    "    discrete_state = get_discrete_state(env.reset())\n",
    "    episode_reward = 0\n",
    "    done = False\n",
    "    if episode % show_episode == 0:\n",
    "        print(episode)\n",
    "        render = True\n",
    "    else:\n",
    "        render = False\n",
    "    \n",
    "    while not done: \n",
    "    # move right\n",
    "        if np.random.random() > epsilon:\n",
    "            action = np.argmax(q_table[discrete_state])\n",
    "        else:\n",
    "            action = np.random.randint(0,env.action_space.n)\n",
    "        \n",
    "        #action = np.argmax(q_table[discrete_state])\n",
    "    # in every action we take we get a new state(position, velocity)\n",
    "        new_state, reward, done, _ = env.step(action)\n",
    "        episode_reward += reward\n",
    "        new_discrete_state = get_discrete_state(new_state)\n",
    "        #print(new_state)\n",
    "        #print(reward)\n",
    "        if render:\n",
    "            env.render()\n",
    "        #print(reward)\n",
    "        if not done:\n",
    "            max_future_q = np.max(q_table[new_discrete_state])\n",
    "            current_q = q_table[discrete_state +(action, )]\n",
    "            \n",
    "            # the q formula\n",
    "            new_q = (1 - learning_rate)* current_q +learning_rate * (reward + discount * max_future_q)\n",
    "            q_table[discrete_state + (action, )] = new_q\n",
    "        \n",
    "        elif new_state[0] >= env.goal_position:\n",
    "            print('We made it on episode',episode)\n",
    "            q_table[discrete_state + (action,)] = 0\n",
    "        \n",
    "        dicrete_state = new_discrete_state\n",
    "    if end_epsilon_decay >= episode >= start_epsilon_decay:\n",
    "        epsilon -= epsilon_decay_value\n",
    "        \n",
    "    ep_rewards.append(episode_reward)\n",
    "    \n",
    "    if not episode % show_episode:\n",
    "        average_reward = sum(ep_rewards[-show_episode:])/len(ep_rewards[-show_episode:])\n",
    "        aggr_ep_rewards['ep'].append(episode)\n",
    "        aggr_ep_rewards['avg'].append(average_reward)\n",
    "        aggr_ep_rewards['min'].append(min(ep_rewards[-show_episode:]))\n",
    "        aggr_ep_rewards['max'].append(max(ep_rewards[-show_episode:]))\n",
    "        print(f'Episode: {episode} avg: {average_reward} min: {min(ep_rewards[-show_episode:])} max: {max(ep_rewards[-show_episode:])}' )\n",
    "        \n",
    "env.close()\n"
   ]
  },
  {
   "cell_type": "code",
   "execution_count": 24,
   "metadata": {},
   "outputs": [
    {
     "data": {
      "image/png": "[encoded data removed]",
      "text/plain": [
       "<Figure size 432x288 with 1 Axes>"
      ]
     },
     "metadata": {
      "needs_background": "light"
     },
     "output_type": "display_data"
    }
   ],
   "source": [
    "plt.plot(aggr_ep_rewards['ep'], aggr_ep_rewards['avg'], label = 'avg')\n",
    "plt.plot(aggr_ep_rewards['ep'], aggr_ep_rewards['min'], label = 'min')\n",
    "plt.plot(aggr_ep_rewards['ep'], aggr_ep_rewards['max'], label = 'max')\n",
    "plt.legend(loc = 4)\n",
    "plt.show()"
   ]
  },
  {
   "cell_type": "code",
   "execution_count": null,
   "metadata": {},
   "outputs": [],
   "source": []
  }
 ],
 "metadata": {
  "kernelspec": {
   "display_name": "Python 3",
   "language": "python",
   "name": "python3"
  },
  "language_info": {
   "codemirror_mode": {
    "name": "ipython",
    "version": 3
   },
   "file_extension": ".py",
   "mimetype": "text/x-python",
   "name": "python",
   "nbconvert_exporter": "python",
   "pygments_lexer": "ipython3",
   "version": "3.7.4"
  }
 },
 "nbformat": 4,
 "nbformat_minor": 2
}
